{
 "cells": [
  {
   "cell_type": "code",
   "execution_count": 2,
   "id": "f13add8b-ab9c-4cb4-9c42-2d528ebf9380",
   "metadata": {},
   "outputs": [
    {
     "name": "stderr",
     "output_type": "stream",
     "text": [
      "<frozen importlib._bootstrap>:219: RuntimeWarning: scipy._lib.messagestream.MessageStream size changed, may indicate binary incompatibility. Expected 56 from C header, got 64 from PyObject\n"
     ]
    }
   ],
   "source": [
    "import ase\n",
    "from ase import io\n",
    "a = ase.io.read('602516.cif')"
   ]
  },
  {
   "cell_type": "code",
   "execution_count": 7,
   "id": "fd81ad72-188f-4255-9301-63fc8e327993",
   "metadata": {},
   "outputs": [
    {
     "data": {
      "text/plain": [
       "array([[0., 0., 0.],\n",
       "       [0., 0., 0.],\n",
       "       [0., 0., 0.],\n",
       "       ...,\n",
       "       [0., 0., 0.],\n",
       "       [0., 0., 0.],\n",
       "       [0., 0., 0.]])"
      ]
     },
     "execution_count": 7,
     "metadata": {},
     "output_type": "execute_result"
    }
   ],
   "source": [
    "a.get_momenta()"
   ]
  },
  {
   "cell_type": "code",
   "execution_count": 12,
   "id": "92de476b-9e4f-4e0d-b0f1-c98096cfe173",
   "metadata": {},
   "outputs": [
    {
     "data": {
      "text/plain": [
       "(array(['C', 'Cs', 'Rb'], dtype='<U2'), array([480,   4,   8]))"
      ]
     },
     "execution_count": 12,
     "metadata": {},
     "output_type": "execute_result"
    }
   ],
   "source": [
    "import numpy as np\n",
    "np.unique(a.get_chemical_symbols(), return_counts=True)"
   ]
  },
  {
   "cell_type": "markdown",
   "id": "90b304fd-cc01-47d6-ae64-8bacb17ec8a3",
   "metadata": {},
   "source": [
    "Cs2Rb1C60"
   ]
  },
  {
   "cell_type": "code",
   "execution_count": null,
   "id": "f3a95e81-26fd-456b-9319-d43d17ec41b2",
   "metadata": {},
   "outputs": [],
   "source": []
  }
 ],
 "metadata": {
  "kernelspec": {
   "display_name": "Python 3 (ipykernel)",
   "language": "python",
   "name": "python3"
  },
  "language_info": {
   "codemirror_mode": {
    "name": "ipython",
    "version": 3
   },
   "file_extension": ".py",
   "mimetype": "text/x-python",
   "name": "python",
   "nbconvert_exporter": "python",
   "pygments_lexer": "ipython3",
   "version": "3.8.10"
  }
 },
 "nbformat": 4,
 "nbformat_minor": 5
}
